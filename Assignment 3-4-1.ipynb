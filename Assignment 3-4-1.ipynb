{
 "cells": [
  {
   "cell_type": "markdown",
   "metadata": {},
   "source": [
    "This exercise will require you to pull some data from the Qunadl API. Qaundl is currently the most widely used aggregator of financial market data.\n",
    "\n",
    "As a first step, you will need to register a free account on the http://www.quandl.com website.\n",
    "\n",
    "After you register, you will be provided with a unique API key, that you should store:\n",
    "\n",
    "Qaundl has a large number of data sources, but, unfortunately, most of them require a Premium subscription. Still, there are also a good number of free datasets.\n",
    "\n",
    "For this mini project, we will focus on equities data from the Frankfurt Stock Exhange (FSE), which is available for free. We'll try and analyze the stock prices of a company called Carl Zeiss Meditec, which manufactures tools for eye examinations, as well as medical lasers for laser eye surgery: https://www.zeiss.com/meditec/int/home.html. The company is listed under the stock ticker AFX_X.\n",
    "\n",
    "While there is a dedicated Python package for connecting to the Quandl API, we would prefer that you use the requests package, which can be easily downloaded using pip or conda. You can find the documentation for the package here: http://docs.python-requests.org/en/master/\n",
    "\n",
    "Finally, apart from the requests package, you are encouraged to not use any third party Python packages, such as pandas, and instead focus on what's available in the Python Standard Library (the collections module might come in handy: https://pymotw.com/3/collections/). Also, since you won't have access to DataFrames, you are encouraged to us Python's native data structures - preferably dictionaries, though some questions can also be answered using lists. You can read more on these data structures here: https://docs.python.org/3/tutorial/datastructures.html\n",
    "\n",
    "Keep in mind that the JSON responses you will be getting from the API map almost one-to-one to Python's dictionaries. Unfortunately, they can be very nested, so make sure you read up on indexing dictionaries in the documentation provided above."
   ]
  },
  {
   "cell_type": "code",
   "execution_count": 9,
   "metadata": {},
   "outputs": [],
   "source": [
    "# First, import the relevant modules\n",
    "import requests\n",
    "#As requested in the instructions, I will avoid using any other libraries other than the two listed above."
   ]
  },
  {
   "cell_type": "code",
   "execution_count": 10,
   "metadata": {},
   "outputs": [],
   "source": [
    "# Store the API key as a string - according to PEP8, constants are always named in all upper case\n",
    "API = 'CAmErsWr2xmdMurhLHro'"
   ]
  },
  {
   "cell_type": "code",
   "execution_count": 11,
   "metadata": {},
   "outputs": [],
   "source": [
    "# Inspect the JSON structure of the object you created, and take note of how nested it is,\n",
    "# as well as the overall structure\n",
    "\n",
    "#Convert json file to dictionary.\n",
    "data_json=requests.get(url='https://www.quandl.com/api/v3/datasets/FSE/AFX_X.json?start_date=2017-01-01&end_date=2017-12-31&api_key='\n",
    "                       +API)\n",
    "data_dict=data_json.json()\n",
    "#After playing around with this dictionary on Spyder, I found that the relevant data is located in data['dataset']['data'], and is a nested list.\n",
    "#Each component of the nested list is ordered as follows:\n",
    "#['Date','Open','High','Low','Close','Change','Traded Volume','Turnover','Last Price of the Day','Daily Traded Units','Daily Turnover']\n",
    "#[   0      1      2      3     4       5            6             7                    8                   9                 10      ]\n"
   ]
  },
  {
   "cell_type": "markdown",
   "metadata": {},
   "source": [
    "These are your tasks for this mini project:\n",
    "\n",
    "    Collect data from the Franfurt Stock Exchange, for the ticker AFX_X, for the whole year 2017 (keep in mind that the date format is YYYY-MM-DD).\n",
    "    Convert the returned JSON object into a Python dictionary.\n",
    "    Calculate what the highest and lowest opening prices were for the stock in this period.\n",
    "    What was the largest change in any one day (based on High and Low price)?\n",
    "    What was the largest change between any two days (based on Closing Price)?\n",
    "    What was the average daily trading volume during this year?\n",
    "    (Optional) What was the median trading volume during this year. (Note: you may need to implement your own function for calculating the median.)"
   ]
  },
  {
   "cell_type": "code",
   "execution_count": 12,
   "metadata": {},
   "outputs": [],
   "source": [
    "#Problem 1: Already done in cell 3\n",
    "#Problem 2: Already done in cell 4"
   ]
  },
  {
   "cell_type": "code",
   "execution_count": 14,
   "metadata": {},
   "outputs": [
    {
     "name": "stdout",
     "output_type": "stream",
     "text": [
      "Highest opening price for 2017=  53.11 \n",
      " Lowest opening price for 2017=  41.3\n"
     ]
    }
   ],
   "source": [
    "#Problem 3: Highest and Lowest opening prices for the stock in this period\n",
    "data=data_dict['dataset']['data'] #pull out data list as usable variable\n",
    "highlow=[0,10000000] #list containing answer to problem 3; [highest opening, lowest opening]\n",
    "for day in data:\n",
    "    if day[1]==None:\n",
    "        break\n",
    "    if day[1]>highlow[0]:\n",
    "        highlow[0]=day[1]\n",
    "    elif day[1]<highlow[1]:\n",
    "        highlow[1]=day[1]\n",
    "print(\n",
    "'Highest opening price for 2017= ',highlow[0],'\\n Lowest opening price for 2017= ',highlow[1]\n",
    ")"
   ]
  },
  {
   "cell_type": "code",
   "execution_count": 15,
   "metadata": {},
   "outputs": [
    {
     "name": "stdout",
     "output_type": "stream",
     "text": [
      "Largest change in any one day=  2.8100000000000023\n"
     ]
    }
   ],
   "source": [
    "#Problem 4:Largest change in any one day: Interpreting this as the largest difference between high and low price on any day.\n",
    "delta=0 #contains answer to problem 4\n",
    "for day in data:\n",
    "    if day[1]==None:\n",
    "        break\n",
    "    if abs(day[2]-day[3])>delta:\n",
    "        delta=abs(day[2]-day[3])\n",
    "print(\n",
    "'Largest change in any one day= ',delta\n",
    ")"
   ]
  },
  {
   "cell_type": "code",
   "execution_count": 17,
   "metadata": {},
   "outputs": [
    {
     "name": "stdout",
     "output_type": "stream",
     "text": [
      "Average daily trading volume=  85827.43195266272\n"
     ]
    }
   ],
   "source": [
    "#Problem 6: Average daily trading volume.\n",
    "volume=[] #contains average daily trading volumes\n",
    "for day in data:\n",
    "    if day[1]==None:\n",
    "        break\n",
    "    volume.append(day[6])\n",
    "print(\n",
    "'Average daily trading volume= ',sum(volume)/len(volume)\n",
    ")"
   ]
  },
  {
   "cell_type": "code",
   "execution_count": 18,
   "metadata": {},
   "outputs": [
    {
     "name": "stdout",
     "output_type": "stream",
     "text": [
      "Largest change in any two days=  51.76\n"
     ]
    }
   ],
   "source": [
    "#Problem 5:Largest difference between closing prices on any two days.\n",
    "holder=[1e5,0] #list holds current and previous days values\n",
    "delta=0 #contains answer to problem 5\n",
    "for day in data:\n",
    "    if day[1]==None:\n",
    "        break\n",
    "    holder[0]=holder[1]\n",
    "    holder[1]=day[4]\n",
    "    if holder[0]==1e5: #prevents edge case of first day delta being the greatest\n",
    "        continue\n",
    "    if abs(holder[0]-holder[1])>delta:\n",
    "        delta=abs(holder[0]-holder[1])\n",
    "print(\n",
    "'Largest change in any two days= ',delta\n",
    ")"
   ]
  },
  {
   "cell_type": "code",
   "execution_count": 19,
   "metadata": {},
   "outputs": [
    {
     "name": "stdout",
     "output_type": "stream",
     "text": [
      "Median daily trading volume=  105194.0\n"
     ]
    }
   ],
   "source": [
    "#Problem 7: Median daily trading volume\n",
    "#Finding the median naively is quite simple: sort the list and output the middle list number. In this case, volume[127] for length=255\n",
    "for k in range(0,len(volume)): #not in the mood to implement a more complex sorting algorithm.\n",
    "    for i in range(1,len(volume)):\n",
    "        if i==0: #this involves looking at previous values, removing edge case of beginning value\n",
    "            continue\n",
    "        if volume[i]<volume[i-1]:\n",
    "            dummy=volume[i]\n",
    "            volume[i]=volume[i-1]\n",
    "            volume[i-1]=dummy\n",
    "print(\n",
    "'Median daily trading volume= ',volume[127]\n",
    ")"
   ]
  }
 ],
 "metadata": {
  "kernelspec": {
   "display_name": "Python 3",
   "language": "python",
   "name": "python3"
  },
  "language_info": {
   "codemirror_mode": {
    "name": "ipython",
    "version": 3
   },
   "file_extension": ".py",
   "mimetype": "text/x-python",
   "name": "python",
   "nbconvert_exporter": "python",
   "pygments_lexer": "ipython3",
   "version": "3.8.3"
  }
 },
 "nbformat": 4,
 "nbformat_minor": 4
}
